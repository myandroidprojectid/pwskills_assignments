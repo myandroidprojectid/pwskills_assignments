{
 "cells": [
  {
   "cell_type": "markdown",
   "id": "8d938c9d",
   "metadata": {},
   "source": [
    "# Python - Task 1"
   ]
  },
  {
   "cell_type": "markdown",
   "id": "020edd71",
   "metadata": {},
   "source": [
    "Q1. Create a function which will take a list as an argument and return the product of all the numbers\n",
    "after creating a flat list.\n",
    "\n",
    "Use the below-given list as an argument for your function.\n",
    "\n",
    "list1 = [1,2,3,4, [44,55,66, True], False, (34,56,78,89,34), {1,2,3,3,2,1}, {1:34, \"key2\": [55, 67, 78, 89], 4: (45,\n",
    "22, 61, 34)}, [56, 'data science'], 'Machine Learning']\n",
    "\n",
    "Note: you must extract numeric keys and values of the dictionary also."
   ]
  },
  {
   "cell_type": "code",
   "execution_count": 1,
   "id": "303475c8",
   "metadata": {},
   "outputs": [],
   "source": [
    "from functools import reduce"
   ]
  },
  {
   "cell_type": "code",
   "execution_count": 2,
   "id": "63cf8ea7",
   "metadata": {},
   "outputs": [
    {
     "data": {
      "text/plain": [
       "4134711838987085478833841242112000"
      ]
     },
     "execution_count": 2,
     "metadata": {},
     "output_type": "execute_result"
    }
   ],
   "source": [
    "list1 = [1,2,3,4, [44,55,66, True], False, (34,56,78,89,34), {1,2,3,3,2,1}, {1:34, \"key2\": [55, 67, 78, 89], 4: (45,\n",
    "22, 61, 34)}, [56, 'data science'], 'Machine Learning']\n",
    "\n",
    "def appendNumber(inputItem, numberList):\n",
    "    if type(inputItem) == int:\n",
    "        numberList.append(inputItem)\n",
    "    elif type(inputItem) == list or type(inputItem) == set or type(inputItem) == tuple:\n",
    "        for item in inputItem:\n",
    "            appendNumber(item, numberList)\n",
    "    elif type(inputItem) == dict:\n",
    "        for key in inputItem:\n",
    "            appendNumber(key, numberList)\n",
    "        for value in inputItem.values():\n",
    "            appendNumber(value, numberList)\n",
    "\n",
    "def getNumberList(inputList):\n",
    "    numberList = []\n",
    "    for item in inputList:\n",
    "        appendNumber(item, numberList)\n",
    "    return numberList\n",
    "\n",
    "def getProductOfNumbersInList(inputList):\n",
    "    numberList = getNumberList(inputList)\n",
    "    return reduce((lambda x, y: x * y), numberList)\n",
    "\n",
    "getProductOfNumbersInList(list1)"
   ]
  },
  {
   "cell_type": "markdown",
   "id": "160590d3",
   "metadata": {},
   "source": [
    "Q2. Write a python program for encrypting a message sent to you by your friend. The logic of encryption\n",
    "should be such that, for a the output should be z. For b, the output should be y. For c, the output should\n",
    "be x respectively. Also, the whitespace should be replaced with a dollar sign. Keep the punctuation\n",
    "marks unchanged.\n",
    "\n",
    "Input Sentence: I want to become a Data Scientist.\n",
    "\n",
    "Encrypt the above input sentence using the program you just created.\n",
    "\n",
    "Note: Convert the given input sentence into lowercase before encrypting. The final output should be\n",
    "lowercase."
   ]
  },
  {
   "cell_type": "code",
   "execution_count": 3,
   "id": "2eecd114",
   "metadata": {},
   "outputs": [
    {
     "data": {
      "text/plain": [
       "'r$dzmg$gl$yvxlnv$z$wzgz$hxrvmgrhg.'"
      ]
     },
     "execution_count": 3,
     "metadata": {},
     "output_type": "execute_result"
    }
   ],
   "source": [
    "def getEncryptedCharacter(character):\n",
    "    if ord(character) >= 97 and ord(character) <= 109:\n",
    "        return chr(110 + (109 - ord(character)))\n",
    "    elif ord(character) >= 110 and ord(character) <= 122:\n",
    "        return chr(97 + (122 - ord(character)))\n",
    "    elif ord(character) == 32:\n",
    "        return chr(36)\n",
    "    else:\n",
    "        return chr(ord(character))\n",
    "    \n",
    "def encrypt(message):\n",
    "    message = message.lower()\n",
    "    encryptedMessage = \"\"\n",
    "    for character in message:\n",
    "        encryptedMessage += (getEncryptedCharacter(character))\n",
    "    return encryptedMessage\n",
    "    \n",
    "encrypt(\"I want to become a Data Scientist.\")"
   ]
  }
 ],
 "metadata": {
  "kernelspec": {
   "display_name": "Python 3 (ipykernel)",
   "language": "python",
   "name": "python3"
  },
  "language_info": {
   "codemirror_mode": {
    "name": "ipython",
    "version": 3
   },
   "file_extension": ".py",
   "mimetype": "text/x-python",
   "name": "python",
   "nbconvert_exporter": "python",
   "pygments_lexer": "ipython3",
   "version": "3.9.13"
  }
 },
 "nbformat": 4,
 "nbformat_minor": 5
}
