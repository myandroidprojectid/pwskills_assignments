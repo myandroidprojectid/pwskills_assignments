{
 "cells": [
  {
   "cell_type": "markdown",
   "id": "050a89c2",
   "metadata": {},
   "source": [
    "## Python - Task 2"
   ]
  },
  {
   "cell_type": "markdown",
   "id": "5a8faa83",
   "metadata": {},
   "source": [
    "Q1. You are writing code for a company. The requirement of the company is that you create a python function that will check whether the password entered by the user is correct or not. The function should take the password as input and return the string “Valid Password” if the entered password follows the below-given password guidelines else it should return “Invalid Password”.\n",
    "\n",
    "\n",
    "Note:\n",
    "1. The Password should contain at least two uppercase letters and at least two lowercase letters.\n",
    "2. The Password should contain at least a number and three special characters.\n",
    "3. The length of the password should be 10 characters long."
   ]
  },
  {
   "cell_type": "code",
   "execution_count": 1,
   "id": "75937466",
   "metadata": {},
   "outputs": [],
   "source": [
    "def checkPasswordValidity(password):\n",
    "    if len(password) < 10:\n",
    "        return \"Invalid Password\"\n",
    "    smallAlphaCount = 0;\n",
    "    capitalAlphaCount = 0;\n",
    "    numberCount = 0;\n",
    "    specialCharacterCount = 0;\n",
    "    for character in password:\n",
    "        ordinal = ord(character)\n",
    "        if ordinal >= 97 and ordinal <= 122:\n",
    "            smallAlphaCount += 1\n",
    "        elif ordinal >= 65 and ordinal <= 90:\n",
    "            capitalAlphaCount += 1\n",
    "        elif ordinal >= 48 and ordinal <= 57:\n",
    "            numberCount += 1\n",
    "        elif ordinal >= 33 and ordinal <= 47 or ordinal >= 58 and ordinal <= 64 or ordinal >= 91 and ordinal <= 96 or ordinal >= 123 and ordinal <= 126:\n",
    "            specialCharacterCount += 1\n",
    "    \n",
    "    if smallAlphaCount >=2 and capitalAlphaCount >=2 and numberCount >=1 and specialCharacterCount >=3:\n",
    "        return \"Valid Password\"\n",
    "    else:\n",
    "        return \"Invalid Password\""
   ]
  },
  {
   "cell_type": "code",
   "execution_count": 2,
   "id": "2acef7ca",
   "metadata": {},
   "outputs": [
    {
     "data": {
      "text/plain": [
       "'Valid Password'"
      ]
     },
     "execution_count": 2,
     "metadata": {},
     "output_type": "execute_result"
    }
   ],
   "source": [
    "checkPasswordValidity(\"aA$b4cd@AB@*\")"
   ]
  },
  {
   "cell_type": "markdown",
   "id": "615012a4",
   "metadata": {},
   "source": [
    "Q2. Solve the below-given questions using at least one of the following:\n",
    "\n",
    "1. Lambda function\n",
    "2. Filter function\n",
    "3. Map function\n",
    "4. List Comprehension\n",
    "\n",
    " - Check if the string starts with a particular letter.\n",
    " - Check if the string is numeric.\n",
    " - Sort a list of tuples having fruit names and their quantity. [(\"mango\",99),(\"orange\",80), (\"grapes\", 1000)].\n",
    " - Find the squares of numbers from 1 to 10.\n",
    " - Find the cube root of numbers from 1 to 10.\n",
    " - Check if a given number is even.\n",
    " - Filter odd numbers from the given list. [1,2,3,4,5,6,7,8,9,10].\n",
    " - Sort a list of integers into positive and negative integers lists. [1,2,3,4,5,6,-1,-2,-3,-4,-5,0]."
   ]
  },
  {
   "cell_type": "markdown",
   "id": "3f741c78",
   "metadata": {},
   "source": [
    "#### Check if the string starts with a particular letter."
   ]
  },
  {
   "cell_type": "code",
   "execution_count": 3,
   "id": "0c2dc1f8",
   "metadata": {},
   "outputs": [],
   "source": [
    "def startsWith(inputString, checkCharacter):\n",
    "    return type(inputString) == str and inputString.startswith(checkCharacter)"
   ]
  },
  {
   "cell_type": "code",
   "execution_count": 4,
   "id": "ba6588a1",
   "metadata": {},
   "outputs": [
    {
     "data": {
      "text/plain": [
       "True"
      ]
     },
     "execution_count": 4,
     "metadata": {},
     "output_type": "execute_result"
    }
   ],
   "source": [
    "startsWith(\"Rahul\", \"R\")"
   ]
  },
  {
   "cell_type": "code",
   "execution_count": 5,
   "id": "72264ddd",
   "metadata": {},
   "outputs": [
    {
     "data": {
      "text/plain": [
       "False"
      ]
     },
     "execution_count": 5,
     "metadata": {},
     "output_type": "execute_result"
    }
   ],
   "source": [
    "startsWith(\"234325\", \"r\")"
   ]
  },
  {
   "cell_type": "markdown",
   "id": "65233c6f",
   "metadata": {},
   "source": [
    "#### Check if the string is numeric."
   ]
  },
  {
   "cell_type": "code",
   "execution_count": 6,
   "id": "1d7112fb",
   "metadata": {},
   "outputs": [],
   "source": [
    "def isNumeric(inputString):\n",
    "    return type(inputString) == str and inputString.isalnum()"
   ]
  },
  {
   "cell_type": "code",
   "execution_count": 7,
   "id": "6835a6dd",
   "metadata": {},
   "outputs": [
    {
     "data": {
      "text/plain": [
       "True"
      ]
     },
     "execution_count": 7,
     "metadata": {},
     "output_type": "execute_result"
    }
   ],
   "source": [
    "isNumeric(\"543273257\")"
   ]
  },
  {
   "cell_type": "code",
   "execution_count": 8,
   "id": "3c00e666",
   "metadata": {},
   "outputs": [
    {
     "data": {
      "text/plain": [
       "True"
      ]
     },
     "execution_count": 8,
     "metadata": {},
     "output_type": "execute_result"
    }
   ],
   "source": [
    "isNumeric(\"879ygweuy4378\")"
   ]
  },
  {
   "cell_type": "code",
   "execution_count": 9,
   "id": "feb6a6ae",
   "metadata": {},
   "outputs": [
    {
     "data": {
      "text/plain": [
       "False"
      ]
     },
     "execution_count": 9,
     "metadata": {},
     "output_type": "execute_result"
    }
   ],
   "source": [
    "isNumeric(67876)"
   ]
  },
  {
   "cell_type": "markdown",
   "id": "ed4ae39a",
   "metadata": {},
   "source": [
    "#### Sort a list of tuples having fruit names and their quantity. [(\"mango\",99),(\"orange\",80), (\"grapes\", 1000)]."
   ]
  },
  {
   "cell_type": "code",
   "execution_count": 10,
   "id": "72e6b77f",
   "metadata": {},
   "outputs": [],
   "source": [
    "tupleList = [(\"mango\",99),(\"orange\",80), (\"grapes\", 1000)]"
   ]
  },
  {
   "cell_type": "code",
   "execution_count": 11,
   "id": "f7049320",
   "metadata": {},
   "outputs": [
    {
     "data": {
      "text/plain": [
       "[('grapes', 1000), ('mango', 99), ('orange', 80)]"
      ]
     },
     "execution_count": 11,
     "metadata": {},
     "output_type": "execute_result"
    }
   ],
   "source": [
    "tupleList.sort()\n",
    "tupleList"
   ]
  },
  {
   "cell_type": "code",
   "execution_count": 12,
   "id": "67fbc060",
   "metadata": {},
   "outputs": [
    {
     "data": {
      "text/plain": [
       "[('grapes', 1000), ('mango', 99), ('orange', 80)]"
      ]
     },
     "execution_count": 12,
     "metadata": {},
     "output_type": "execute_result"
    }
   ],
   "source": [
    "key = lambda x: x[0]\n",
    "sorted(tupleList, key=key)"
   ]
  },
  {
   "cell_type": "code",
   "execution_count": 13,
   "id": "71ad5168",
   "metadata": {},
   "outputs": [
    {
     "data": {
      "text/plain": [
       "[('orange', 80), ('mango', 99), ('grapes', 1000)]"
      ]
     },
     "execution_count": 13,
     "metadata": {},
     "output_type": "execute_result"
    }
   ],
   "source": [
    "key = lambda x: x[1]\n",
    "sorted(tupleList, key=key)"
   ]
  },
  {
   "cell_type": "markdown",
   "id": "eedcebe3",
   "metadata": {},
   "source": [
    "#### Find the squares of numbers from 1 to 10."
   ]
  },
  {
   "cell_type": "code",
   "execution_count": 14,
   "id": "58cfc885",
   "metadata": {},
   "outputs": [
    {
     "data": {
      "text/plain": [
       "[1, 4, 9, 16, 25, 36, 49, 64, 81, 100]"
      ]
     },
     "execution_count": 14,
     "metadata": {},
     "output_type": "execute_result"
    }
   ],
   "source": [
    "[x**2 for x in range(1, 11)]"
   ]
  },
  {
   "cell_type": "markdown",
   "id": "531c6e25",
   "metadata": {},
   "source": [
    "#### Find the cube root of numbers from 1 to 10."
   ]
  },
  {
   "cell_type": "code",
   "execution_count": 15,
   "id": "649a85fd",
   "metadata": {},
   "outputs": [
    {
     "data": {
      "text/plain": [
       "[1.0,\n",
       " 1.2599210498948732,\n",
       " 1.4422495703074083,\n",
       " 1.5874010519681994,\n",
       " 1.7099759466766968,\n",
       " 1.8171205928321397,\n",
       " 1.912931182772389,\n",
       " 2.0,\n",
       " 2.080083823051904,\n",
       " 2.154434690031884]"
      ]
     },
     "execution_count": 15,
     "metadata": {},
     "output_type": "execute_result"
    }
   ],
   "source": [
    "[x**(1/3) for x in range(1, 11)]"
   ]
  },
  {
   "cell_type": "markdown",
   "id": "04ba5c03",
   "metadata": {},
   "source": [
    "#### Check if a given number is even."
   ]
  },
  {
   "cell_type": "code",
   "execution_count": 16,
   "id": "252e2b69",
   "metadata": {},
   "outputs": [],
   "source": [
    "isEven = lambda number : number % 2 == 0"
   ]
  },
  {
   "cell_type": "code",
   "execution_count": 17,
   "id": "6d3d6463",
   "metadata": {},
   "outputs": [
    {
     "data": {
      "text/plain": [
       "[False, True, False, True, False, True, False, True, False, True]"
      ]
     },
     "execution_count": 17,
     "metadata": {},
     "output_type": "execute_result"
    }
   ],
   "source": [
    "[isEven(x) for x in range(1, 11)]"
   ]
  },
  {
   "cell_type": "code",
   "execution_count": 18,
   "id": "a629f539",
   "metadata": {},
   "outputs": [],
   "source": [
    "# for num in range(1, 100):\n",
    "#     print(f\"{num} is {'Even' if isEven(num) else 'Odd'}\")\n",
    "    "
   ]
  },
  {
   "cell_type": "markdown",
   "id": "1976d6d3",
   "metadata": {},
   "source": [
    "#### Filter odd numbers from the given list. [1,2,3,4,5,6,7,8,9,10]."
   ]
  },
  {
   "cell_type": "code",
   "execution_count": 19,
   "id": "509dee02",
   "metadata": {},
   "outputs": [],
   "source": [
    "inputList = [1,2,3,4,5,6,7,8,9,10]"
   ]
  },
  {
   "cell_type": "code",
   "execution_count": 20,
   "id": "fcee5e07",
   "metadata": {},
   "outputs": [
    {
     "data": {
      "text/plain": [
       "[1, 3, 5, 7, 9]"
      ]
     },
     "execution_count": 20,
     "metadata": {},
     "output_type": "execute_result"
    }
   ],
   "source": [
    "list(filter(lambda x: x % 2 != 0, inputList))"
   ]
  },
  {
   "cell_type": "code",
   "execution_count": 21,
   "id": "73409560",
   "metadata": {},
   "outputs": [
    {
     "data": {
      "text/plain": [
       "[1, 3, 5, 7, 9]"
      ]
     },
     "execution_count": 21,
     "metadata": {},
     "output_type": "execute_result"
    }
   ],
   "source": [
    "[odd for odd in inputList if odd % 2 != 0]"
   ]
  },
  {
   "cell_type": "markdown",
   "id": "7d278b37",
   "metadata": {},
   "source": [
    "#### Sort a list of integers into positive and negative integers lists. [1,2,3,4,5,6,-1,-2,-3,-4,-5,0]."
   ]
  },
  {
   "cell_type": "code",
   "execution_count": 22,
   "id": "e27333ae",
   "metadata": {},
   "outputs": [],
   "source": [
    "inputList = [1,2,3,4,5,6,-1,-2,-3,-4,-5,0]"
   ]
  },
  {
   "cell_type": "code",
   "execution_count": 23,
   "id": "184b2ead",
   "metadata": {},
   "outputs": [],
   "source": [
    "positiveNumberList = [x for x in inputList if x > 0]"
   ]
  },
  {
   "cell_type": "code",
   "execution_count": 24,
   "id": "3e81d139",
   "metadata": {},
   "outputs": [
    {
     "data": {
      "text/plain": [
       "[1, 2, 3, 4, 5, 6]"
      ]
     },
     "execution_count": 24,
     "metadata": {},
     "output_type": "execute_result"
    }
   ],
   "source": [
    "positiveNumberList"
   ]
  },
  {
   "cell_type": "code",
   "execution_count": 25,
   "id": "250042d2",
   "metadata": {},
   "outputs": [],
   "source": [
    "negativeNumberList = [x for x in inputList if x < 0]"
   ]
  },
  {
   "cell_type": "code",
   "execution_count": 26,
   "id": "00087efe",
   "metadata": {},
   "outputs": [
    {
     "data": {
      "text/plain": [
       "[-1, -2, -3, -4, -5]"
      ]
     },
     "execution_count": 26,
     "metadata": {},
     "output_type": "execute_result"
    }
   ],
   "source": [
    "negativeNumberList"
   ]
  }
 ],
 "metadata": {
  "kernelspec": {
   "display_name": "Python 3 (ipykernel)",
   "language": "python",
   "name": "python3"
  },
  "language_info": {
   "codemirror_mode": {
    "name": "ipython",
    "version": 3
   },
   "file_extension": ".py",
   "mimetype": "text/x-python",
   "name": "python",
   "nbconvert_exporter": "python",
   "pygments_lexer": "ipython3",
   "version": "3.9.13"
  }
 },
 "nbformat": 4,
 "nbformat_minor": 5
}
