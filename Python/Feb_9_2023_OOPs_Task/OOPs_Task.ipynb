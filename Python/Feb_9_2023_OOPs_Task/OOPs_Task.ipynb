{
 "cells": [
  {
   "cell_type": "markdown",
   "id": "33fa7d93",
   "metadata": {},
   "source": [
    "#### Q1. Create a vehicle class with an init method having instance variables as name_of_vehicle, max_speed and average_of_vehicle."
   ]
  },
  {
   "cell_type": "code",
   "execution_count": 1,
   "id": "9acc2c4b",
   "metadata": {},
   "outputs": [],
   "source": [
    "class vehicle:\n",
    "    def __init__(self, name_of_vehicle, max_speed, average_of_vehicle):\n",
    "        self.name_of_vehicle = name_of_vehicle\n",
    "        self.max_speed = max_speed\n",
    "        self.average_of_vehicle = average_of_vehicle"
   ]
  },
  {
   "cell_type": "code",
   "execution_count": 2,
   "id": "1bd8ad5d",
   "metadata": {},
   "outputs": [],
   "source": [
    "v1 = vehicle(\"Toyota\", 12, 10)"
   ]
  },
  {
   "cell_type": "code",
   "execution_count": 3,
   "id": "63c7d67e",
   "metadata": {},
   "outputs": [
    {
     "data": {
      "text/plain": [
       "'Toyota'"
      ]
     },
     "execution_count": 3,
     "metadata": {},
     "output_type": "execute_result"
    }
   ],
   "source": [
    "v1.name_of_vehicle"
   ]
  },
  {
   "cell_type": "code",
   "execution_count": 4,
   "id": "78266397",
   "metadata": {},
   "outputs": [
    {
     "data": {
      "text/plain": [
       "12"
      ]
     },
     "execution_count": 4,
     "metadata": {},
     "output_type": "execute_result"
    }
   ],
   "source": [
    "v1.max_speed"
   ]
  },
  {
   "cell_type": "code",
   "execution_count": 5,
   "id": "81da4c86",
   "metadata": {},
   "outputs": [
    {
     "data": {
      "text/plain": [
       "10"
      ]
     },
     "execution_count": 5,
     "metadata": {},
     "output_type": "execute_result"
    }
   ],
   "source": [
    "v1.average_of_vehicle"
   ]
  },
  {
   "cell_type": "markdown",
   "id": "b32084d9",
   "metadata": {},
   "source": [
    "#### Q2. Create a child class car from the vehicle class created in Que 1, which will inherit the vehicle class. Create a method named seating_capacity which takes capacity as an argument and returns the name of the vehicle and its seating capacity."
   ]
  },
  {
   "cell_type": "code",
   "execution_count": 6,
   "id": "9dc3b8ad",
   "metadata": {},
   "outputs": [],
   "source": [
    "class car(vehicle):\n",
    "    def __init__(self, name_of_vehicle, max_speed, average_of_vehicle, capacity):\n",
    "        super().__init__(name_of_vehicle, max_speed, average_of_vehicle)\n",
    "        self.capacity = capacity\n",
    "    \n",
    "    def seating_capacity(self, capacity):\n",
    "        self.capacity = capacity\n",
    "        return f\"Name of vehicle: {self.name_of_vehicle}, Capacity : {self.capacity}\""
   ]
  },
  {
   "cell_type": "code",
   "execution_count": 7,
   "id": "5d25b98a",
   "metadata": {},
   "outputs": [
    {
     "data": {
      "text/plain": [
       "'Name of vehicle: Toyota, Capacity : 8'"
      ]
     },
     "execution_count": 7,
     "metadata": {},
     "output_type": "execute_result"
    }
   ],
   "source": [
    "c = car(\"Toyota\", 12, 10, 6)\n",
    "c.seating_capacity(8)"
   ]
  },
  {
   "cell_type": "markdown",
   "id": "905d887a",
   "metadata": {},
   "source": [
    "#### Q3. What is multiple inheritance? Write a python code to demonstrate multiple inheritance."
   ]
  },
  {
   "cell_type": "markdown",
   "id": "75997e8b",
   "metadata": {},
   "source": [
    "#### When a class is derived from more than one base class, then it is called multiple Inheritance. The derived class inherits all the features of the base classes."
   ]
  },
  {
   "cell_type": "code",
   "execution_count": 8,
   "id": "ceb561d3",
   "metadata": {},
   "outputs": [],
   "source": [
    "class Time:\n",
    "    def __init__(self, time):\n",
    "        self.time = time\n",
    "        \n",
    "    def getTime(self):\n",
    "        print(f\"{self.time}\")\n",
    "        \n",
    "        \n",
    "class Date:\n",
    "    def __init__(self, date):\n",
    "        self.date = date\n",
    "        \n",
    "    def getDate(self):\n",
    "        print(f\"{self.date}\")\n",
    "        \n",
    "        \n",
    "class Calendar(Date, Time):\n",
    "    def __init__(self, date, time):\n",
    "        Date.__init__(self, date)\n",
    "        Time.__init__(self,time)\n",
    "        \n",
    "    def getDateTime(self):\n",
    "        print(f\"{self.date} {self.time}\")\n",
    "\n"
   ]
  },
  {
   "cell_type": "code",
   "execution_count": 9,
   "id": "84865488",
   "metadata": {},
   "outputs": [],
   "source": [
    "time = Time(\"06:10\")\n",
    "date = Date(\"Feb 14, 2023\")\n",
    "calendar = Calendar(\"Feb 14, 2023\", \"06:10\")"
   ]
  },
  {
   "cell_type": "code",
   "execution_count": 10,
   "id": "6c992aee",
   "metadata": {},
   "outputs": [
    {
     "name": "stdout",
     "output_type": "stream",
     "text": [
      "06:10\n"
     ]
    }
   ],
   "source": [
    "time.getTime()"
   ]
  },
  {
   "cell_type": "code",
   "execution_count": 11,
   "id": "7c97cd91",
   "metadata": {
    "scrolled": true
   },
   "outputs": [
    {
     "name": "stdout",
     "output_type": "stream",
     "text": [
      "Feb 14, 2023\n"
     ]
    }
   ],
   "source": [
    "date.getDate()"
   ]
  },
  {
   "cell_type": "code",
   "execution_count": 12,
   "id": "6739576e",
   "metadata": {},
   "outputs": [
    {
     "name": "stdout",
     "output_type": "stream",
     "text": [
      "Feb 14, 2023 06:10\n"
     ]
    }
   ],
   "source": [
    "calendar.getDateTime()"
   ]
  },
  {
   "cell_type": "markdown",
   "id": "f834fd7d",
   "metadata": {},
   "source": [
    "#### Q4. What are getter and setter in python? Create a class and create a getter and a setter method in this class."
   ]
  },
  {
   "cell_type": "markdown",
   "id": "c4e49d72",
   "metadata": {},
   "source": [
    "#### In Python setter and getter are used to give access to the private properties of a class. @property decorator is used to define the accessor & setter is used to define the modifier."
   ]
  },
  {
   "cell_type": "code",
   "execution_count": 13,
   "id": "3fd7b2dc",
   "metadata": {},
   "outputs": [],
   "source": [
    "class Point:\n",
    "    def __init__(self, x, y):\n",
    "        self.__x = x\n",
    "        self.__y = y\n",
    "    \n",
    "    @property\n",
    "    def xCoordinate(self):\n",
    "        return self.__x\n",
    "    \n",
    "    @xCoordinate.setter\n",
    "    def set_xCoordinate(self, x):\n",
    "        self.__x = x"
   ]
  },
  {
   "cell_type": "code",
   "execution_count": 14,
   "id": "00902183",
   "metadata": {},
   "outputs": [],
   "source": [
    "point = Point(50, 50)"
   ]
  },
  {
   "cell_type": "code",
   "execution_count": 15,
   "id": "2b43f36e",
   "metadata": {},
   "outputs": [
    {
     "data": {
      "text/plain": [
       "50"
      ]
     },
     "execution_count": 15,
     "metadata": {},
     "output_type": "execute_result"
    }
   ],
   "source": [
    "point.xCoordinate"
   ]
  },
  {
   "cell_type": "code",
   "execution_count": 16,
   "id": "260cd9b9",
   "metadata": {},
   "outputs": [],
   "source": [
    "point.set_xCoordinate = 30"
   ]
  },
  {
   "cell_type": "code",
   "execution_count": 17,
   "id": "0a2de820",
   "metadata": {},
   "outputs": [
    {
     "data": {
      "text/plain": [
       "1"
      ]
     },
     "execution_count": 17,
     "metadata": {},
     "output_type": "execute_result"
    }
   ],
   "source": [
    "1"
   ]
  },
  {
   "cell_type": "markdown",
   "id": "95b47790",
   "metadata": {},
   "source": [
    "#### Q5. What is method overriding in python? Write a python code to demonstrate method overriding."
   ]
  },
  {
   "cell_type": "markdown",
   "id": "89a6e99b",
   "metadata": {},
   "source": [
    "#### When a child class provides a specific implementation of a method that is provided by one of its parent classes, then it is called method overriding."
   ]
  },
  {
   "cell_type": "code",
   "execution_count": 18,
   "id": "e20bc58a",
   "metadata": {},
   "outputs": [],
   "source": [
    "class Person:\n",
    "    def __init__(self, name):\n",
    "        self.name = name\n",
    "        \n",
    "    def introduceSelf(self):\n",
    "        print(f\"Hello, my name is {self.name}\")\n",
    "        \n",
    "class Teacher(Person):\n",
    "    def __init__(self, name):\n",
    "        super().__init__(name)\n",
    "    \n",
    "    def introduceSelf(self):\n",
    "        print(f\"Hello, my name is {self.name}. I am a teacher.\")\n",
    "        \n",
    "class Student(Person):\n",
    "    def __init__(self, name):\n",
    "        super().__init__(name)\n",
    "    \n",
    "    def introduceSelf(self):\n",
    "        print(f\"Hello, my name is {self.name}. I am a student.\")        "
   ]
  },
  {
   "cell_type": "code",
   "execution_count": 19,
   "id": "e6e832e6",
   "metadata": {},
   "outputs": [],
   "source": [
    "teacher = Teacher(\"Sudhanshu\")\n",
    "student = Student(\"Rahul\")"
   ]
  },
  {
   "cell_type": "code",
   "execution_count": 20,
   "id": "554cf8db",
   "metadata": {
    "scrolled": true
   },
   "outputs": [
    {
     "name": "stdout",
     "output_type": "stream",
     "text": [
      "Hello, my name is Sudhanshu. I am a teacher.\n"
     ]
    }
   ],
   "source": [
    "teacher.introduceSelf()"
   ]
  },
  {
   "cell_type": "code",
   "execution_count": 21,
   "id": "f978ac58",
   "metadata": {},
   "outputs": [
    {
     "name": "stdout",
     "output_type": "stream",
     "text": [
      "Hello, my name is Rahul. I am a student.\n"
     ]
    }
   ],
   "source": [
    "student.introduceSelf()"
   ]
  }
 ],
 "metadata": {
  "kernelspec": {
   "display_name": "Python 3 (ipykernel)",
   "language": "python",
   "name": "python3"
  },
  "language_info": {
   "codemirror_mode": {
    "name": "ipython",
    "version": 3
   },
   "file_extension": ".py",
   "mimetype": "text/x-python",
   "name": "python",
   "nbconvert_exporter": "python",
   "pygments_lexer": "ipython3",
   "version": "3.9.13"
  }
 },
 "nbformat": 4,
 "nbformat_minor": 5
}
